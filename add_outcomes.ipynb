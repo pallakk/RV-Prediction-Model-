{
 "cells": [
  {
   "cell_type": "code",
   "execution_count": 13,
   "metadata": {},
   "outputs": [],
   "source": [
    "import pandas as pd"
   ]
  },
  {
   "cell_type": "code",
   "execution_count": 14,
   "metadata": {},
   "outputs": [],
   "source": [
    "patients_data = pd.read_csv('Close2AdmitData.csv')\n",
    "rv_outcomes = pd.read_excel('RVoutcomes.xlsx')"
   ]
  },
  {
   "cell_type": "code",
   "execution_count": 17,
   "metadata": {},
   "outputs": [
    {
     "name": "stdout",
     "output_type": "stream",
     "text": [
      "Columns in patients_data: Index(['patkey', 'Sex', 'Height', 'Weight', 'CO_td', 'CO_fick', 'PCW', 'PCWa',\n",
      "       'PCWv', 'PAs', 'PAd', 'RVs', 'RVmin', 'RVd', 'RAa', 'RAv', 'RAm', 'LVs',\n",
      "       'LVd', 'LVmin', 'SAs', 'SAd', 'HR_vitals', 'HR_vitals_std',\n",
      "       'NIBPs_vitals', 'NIBPs_vitals_std', 'NIBPd_vitals', 'NIBPd_vitals_std',\n",
      "       'As', 'Ad', 'tteId', 'TTEDate', 'LVIDd', 'LVIDs', 'HR_tte', 'LVEF_tte',\n",
      "       'EA', 'IVSd', 'LVPWd', 'LAd', 'VLA', 'AVr', 'AVpg', 'MVr', 'MVmg',\n",
      "       'TVr', 'TVmg', 'PVr', 'PVpg', 'AVr_str', 'MVr_str', 'TVr_str',\n",
      "       'PVr_str', 'Age'],\n",
      "      dtype='object')\n",
      "Columns in rv_outcomes: Index(['patid', 'patkey', 'RV Dysfunction'], dtype='object')\n"
     ]
    }
   ],
   "source": [
    "patients_data.rename(columns={'patKey': 'patkey'}, inplace=True)\n",
    "\n",
    "print(\"Columns in patients_data:\", patients_data.columns)\n",
    "print(\"Columns in rv_outcomes:\", rv_outcomes.columns)"
   ]
  },
  {
   "cell_type": "code",
   "execution_count": 18,
   "metadata": {},
   "outputs": [],
   "source": [
    "merged_data = pd.merge(patients_data, rv_outcomes, on='patkey', how='left')"
   ]
  },
  {
   "cell_type": "code",
   "execution_count": 19,
   "metadata": {},
   "outputs": [
    {
     "name": "stdout",
     "output_type": "stream",
     "text": [
      "Updated columns in patients_data: Index(['patkey', 'Sex', 'Height', 'Weight', 'CO_td', 'CO_fick', 'PCW', 'PCWa',\n",
      "       'PCWv', 'PAs', 'PAd', 'RVs', 'RVmin', 'RVd', 'RAa', 'RAv', 'RAm', 'LVs',\n",
      "       'LVd', 'LVmin', 'SAs', 'SAd', 'HR_vitals', 'HR_vitals_std',\n",
      "       'NIBPs_vitals', 'NIBPs_vitals_std', 'NIBPd_vitals', 'NIBPd_vitals_std',\n",
      "       'As', 'Ad', 'tteId', 'TTEDate', 'LVIDd', 'LVIDs', 'HR_tte', 'LVEF_tte',\n",
      "       'EA', 'IVSd', 'LVPWd', 'LAd', 'VLA', 'AVr', 'AVpg', 'MVr', 'MVmg',\n",
      "       'TVr', 'TVmg', 'PVr', 'PVpg', 'AVr_str', 'MVr_str', 'TVr_str',\n",
      "       'PVr_str', 'Age'],\n",
      "      dtype='object')\n"
     ]
    }
   ],
   "source": [
    "print(\"Updated columns in patients_data:\", patients_data.columns)"
   ]
  },
  {
   "cell_type": "code",
   "execution_count": 20,
   "metadata": {},
   "outputs": [
    {
     "name": "stdout",
     "output_type": "stream",
     "text": [
      "Merged data saved to patients_data_with_RVoutcomes.csv\n"
     ]
    }
   ],
   "source": [
    "merged_csv_file = 'patients_data_with_RVoutcomes.csv'\n",
    "merged_data.to_csv(merged_csv_file, index=False)\n",
    "print(f\"Merged data saved to {merged_csv_file}\")"
   ]
  },
  {
   "cell_type": "code",
   "execution_count": 22,
   "metadata": {},
   "outputs": [],
   "source": [
    "merged_data = pd.merge(patients_data, rv_outcomes, on='patkey', how='left')"
   ]
  },
  {
   "cell_type": "code",
   "execution_count": 23,
   "metadata": {},
   "outputs": [
    {
     "name": "stdout",
     "output_type": "stream",
     "text": [
      "Merged data saved to 'merged_patients_data.csv'\n"
     ]
    }
   ],
   "source": [
    "merged_data.to_csv('Close2AdmitDataWithRV.csv', index=False)\n",
    "print(\"Merged data saved to 'merged_patients_data.csv'\")\n"
   ]
  },
  {
   "cell_type": "code",
   "execution_count": 24,
   "metadata": {},
   "outputs": [
    {
     "name": "stdout",
     "output_type": "stream",
     "text": [
      "                                 patkey  Sex  Height  Weight  CO_td  CO_fick  \\\n",
      "0  00417F6B-D6DD-E611-80D4-0025B5000026    1   180.0    68.6   1.93     2.79   \n",
      "1  008DC91B-B3D4-E411-8D38-F0921C021BF8    2   167.0    84.0   3.40     3.81   \n",
      "2  016A5AD2-08F4-E211-9A1C-00215A9B0094    1   178.0   103.6   5.20     4.74   \n",
      "3  016B8D3C-00E5-E211-9FAA-00215A9B0094    1   170.0    81.2   3.27     3.68   \n",
      "4  019FDE1D-06F4-E211-9A1C-00215A9B0094    2   163.0    49.9   1.83     1.15   \n",
      "\n",
      "    PCW  PCWa  PCWv   PAs  ...  TVmg  PVr  PVpg  \\\n",
      "0  16.0  17.0  17.0  32.0  ...   NaN  1.0   4.0   \n",
      "1  16.0  16.0  17.0  31.0  ...   NaN  1.0   NaN   \n",
      "2  24.0   NaN  52.0  55.0  ...   NaN  1.0   2.0   \n",
      "3  26.0  24.0  36.0  65.0  ...   NaN  2.0   NaN   \n",
      "4  19.0  22.0  40.0  41.0  ...   NaN  1.5   4.0   \n",
      "\n",
      "                               AVr_str             MVr_str  \\\n",
      "0                              Minimal    Mild to moderate   \n",
      "1                                 Mild    Mild to moderate   \n",
      "2  No evidence of aortic regurgitation              Severe   \n",
      "3  No evidence of aortic regurgitation  Moderate to severe   \n",
      "4                              Minimal  Moderate to severe   \n",
      "\n",
      "                                TVr_str  \\\n",
      "0  Minimal, may be within normal limits   \n",
      "1                                  Mild   \n",
      "2                              Moderate   \n",
      "3                                  Mild   \n",
      "4                              Moderate   \n",
      "\n",
      "                                 PVr_str   Age  patid  RV Dysfunction  \n",
      "0  No evidence of pulmonic insufficiency  48.0    2.0        Moderate  \n",
      "1  No evidence of pulmonic insufficiency  63.0    4.0            Mild  \n",
      "2  No evidence of pulmonic insufficiency  71.0    5.0            Mild  \n",
      "3                                   Mild  56.0    6.0            Mild  \n",
      "4   Minimal, may be within normal limits  45.0    9.0            Mild  \n",
      "\n",
      "[5 rows x 56 columns]\n"
     ]
    }
   ],
   "source": [
    "print(merged_data.head())"
   ]
  }
 ],
 "metadata": {
  "kernelspec": {
   "display_name": "env",
   "language": "python",
   "name": "python3"
  },
  "language_info": {
   "codemirror_mode": {
    "name": "ipython",
    "version": 3
   },
   "file_extension": ".py",
   "mimetype": "text/x-python",
   "name": "python",
   "nbconvert_exporter": "python",
   "pygments_lexer": "ipython3",
   "version": "3.13.3"
  }
 },
 "nbformat": 4,
 "nbformat_minor": 2
}
