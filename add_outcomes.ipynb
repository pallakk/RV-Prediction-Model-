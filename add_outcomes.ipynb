{
 "cells": [
  {
   "cell_type": "code",
   "execution_count": 2,
   "metadata": {},
   "outputs": [],
   "source": [
    "import pandas as pd"
   ]
  },
  {
   "cell_type": "code",
   "execution_count": 25,
   "metadata": {},
   "outputs": [],
   "source": [
    "patients_data = pd.read_csv('Close2AdmitData.csv')\n",
    "computational_data = pd.read_csv('Close2AdmitDTinfo.csv')\n",
    "rv_outcomes = pd.read_excel('RVoutcomes.xlsx')"
   ]
  },
  {
   "cell_type": "code",
   "execution_count": 26,
   "metadata": {},
   "outputs": [],
   "source": [
    "patients_data.rename(columns={'patKey': 'patkey'}, inplace=True)\n",
    "computational_data.rename(columns={'patKey': 'patkey'}, inplace=True)\n",
    "rv_outcomes.rename(columns={'patKey': 'patkey'}, inplace=True)\n"
   ]
  },
  {
   "cell_type": "code",
   "execution_count": 27,
   "metadata": {},
   "outputs": [],
   "source": [
    "patients_with_rv = pd.merge(patients_data, rv_outcomes, on='patkey', how='left')\n",
    "computational_with_rv = pd.merge(computational_data, rv_outcomes, on='patkey', how='left')\n"
   ]
  },
  {
   "cell_type": "code",
   "execution_count": null,
   "metadata": {},
   "outputs": [],
   "source": [
    "patients_with_rv.to_csv('Close2AdmitDataWithRV.csv', index=False)\n",
    "computational_with_rv.to_csv('Close2AdmitDTinfoWithRV.csv', index=False)"
   ]
  },
  {
   "cell_type": "code",
   "execution_count": 29,
   "metadata": {},
   "outputs": [
    {
     "name": "stdout",
     "output_type": "stream",
     "text": [
      "CombinedDataWithRV.csv created successfully.\n"
     ]
    }
   ],
   "source": [
    "import pandas as pd\n",
    "\n",
    "# Load both datasets\n",
    "patient_df = pd.read_csv(\"Close2AdmitDataWithRV.csv\")\n",
    "comp_df = pd.read_csv(\"Close2AdmitDTinfoWithRV.csv\")\n",
    "\n",
    "# Drop duplicate RV Dysfunction in computational data (keep the one from patient)\n",
    "comp_df = comp_df.drop(columns=[\"RV Dysfunction\"], errors=\"ignore\")\n",
    "\n",
    "# Merge on 'patkey'\n",
    "combined_df = pd.merge(patient_df, comp_df, on=\"patkey\", how=\"inner\")\n",
    "\n",
    "# Save the result\n",
    "combined_df.to_csv(\"CombinedDataWithRV.csv\", index=False)\n",
    "print(\"CombinedDataWithRV.csv created successfully.\")"
   ]
  }
 ],
 "metadata": {
  "kernelspec": {
   "display_name": "env",
   "language": "python",
   "name": "python3"
  },
  "language_info": {
   "codemirror_mode": {
    "name": "ipython",
    "version": 3
   },
   "file_extension": ".py",
   "mimetype": "text/x-python",
   "name": "python",
   "nbconvert_exporter": "python",
   "pygments_lexer": "ipython3",
   "version": "3.13.3"
  }
 },
 "nbformat": 4,
 "nbformat_minor": 2
}
